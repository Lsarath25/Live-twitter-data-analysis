{
  "nbformat": 4,
  "nbformat_minor": 0,
  "metadata": {
    "colab": {
      "name": "Preprocessin_and_model_building_twitter_dataset.ipynb",
      "provenance": [],
      "collapsed_sections": []
    },
    "kernelspec": {
      "name": "python3",
      "display_name": "Python 3"
    },
    "language_info": {
      "name": "python"
    }
  },
  "cells": [
    {
      "cell_type": "code",
      "metadata": {
        "colab": {
          "base_uri": "https://localhost:8080/"
        },
        "id": "srFt1lqjAqbb",
        "outputId": "f751ff4e-df03-4b72-d792-d0a8b9c5a872"
      },
      "source": [
        "pip install pyspark"
      ],
      "execution_count": 1,
      "outputs": [
        {
          "output_type": "stream",
          "name": "stdout",
          "text": [
            "Collecting pyspark\n",
            "  Downloading pyspark-3.2.1.tar.gz (281.4 MB)\n",
            "\u001b[K     |████████████████████████████████| 281.4 MB 33 kB/s \n",
            "\u001b[?25hCollecting py4j==0.10.9.3\n",
            "  Downloading py4j-0.10.9.3-py2.py3-none-any.whl (198 kB)\n",
            "\u001b[K     |████████████████████████████████| 198 kB 63.7 MB/s \n",
            "\u001b[?25hBuilding wheels for collected packages: pyspark\n",
            "  Building wheel for pyspark (setup.py) ... \u001b[?25l\u001b[?25hdone\n",
            "  Created wheel for pyspark: filename=pyspark-3.2.1-py2.py3-none-any.whl size=281853642 sha256=c7b1c49dd6c61cd9cf716eea6ca2625de0386aeb9536ba7a49682fd33598230d\n",
            "  Stored in directory: /root/.cache/pip/wheels/9f/f5/07/7cd8017084dce4e93e84e92efd1e1d5334db05f2e83bcef74f\n",
            "Successfully built pyspark\n",
            "Installing collected packages: py4j, pyspark\n",
            "Successfully installed py4j-0.10.9.3 pyspark-3.2.1\n"
          ]
        }
      ]
    },
    {
      "cell_type": "code",
      "metadata": {
        "colab": {
          "base_uri": "https://localhost:8080/"
        },
        "id": "ZW-GUfWdAlld",
        "outputId": "bee73174-3040-4338-9134-08464739c399"
      },
      "source": [
        "import pyspark as ps\n",
        "from pyspark.ml.feature import StopWordsRemover\n",
        "import nltk\n",
        "nltk.download(\"stopwords\")"
      ],
      "execution_count": 2,
      "outputs": [
        {
          "output_type": "stream",
          "name": "stdout",
          "text": [
            "[nltk_data] Downloading package stopwords to /root/nltk_data...\n",
            "[nltk_data]   Unzipping corpora/stopwords.zip.\n"
          ]
        },
        {
          "output_type": "execute_result",
          "data": {
            "text/plain": [
              "True"
            ]
          },
          "metadata": {},
          "execution_count": 2
        }
      ]
    },
    {
      "cell_type": "code",
      "metadata": {
        "colab": {
          "base_uri": "https://localhost:8080/"
        },
        "id": "4WNbPmIz8QQM",
        "outputId": "0019aef3-2362-4daa-eeb4-f5b6121f4d55"
      },
      "source": [
        "from google.colab import drive\n",
        "drive.mount('/content/gdrive')"
      ],
      "execution_count": 23,
      "outputs": [
        {
          "output_type": "stream",
          "name": "stdout",
          "text": [
            "Drive already mounted at /content/gdrive; to attempt to forcibly remount, call drive.mount(\"/content/gdrive\", force_remount=True).\n"
          ]
        }
      ]
    },
    {
      "cell_type": "code",
      "metadata": {
        "id": "LZ9_l_RKAIC8"
      },
      "source": [
        "twitter_file=\"/content/gdrive/MyDrive/sentiment140.csv\""
      ],
      "execution_count": 8,
      "outputs": []
    },
    {
      "cell_type": "code",
      "metadata": {
        "id": "RoIT1JJeAf7A"
      },
      "source": [
        "conf = ps.SparkConf().setAll([('spark.executor.memory', '16g'), ('spark.driver.memory', '16g')])\n",
        "#sc.stop()\n",
        "sc = ps.SparkContext(conf=conf)"
      ],
      "execution_count": 5,
      "outputs": []
    },
    {
      "cell_type": "code",
      "metadata": {
        "colab": {
          "base_uri": "https://localhost:8080/"
        },
        "id": "_yi-uS5kBv7S",
        "outputId": "ed9f4f69-faad-4a3b-ddc7-0f56c0a9607d"
      },
      "source": [
        "from pyspark.sql import SQLContext\n",
        "import pyspark.sql.functions as f\n",
        "sql_context = SQLContext(sc)\n",
        "\n",
        "\n"
      ],
      "execution_count": 6,
      "outputs": [
        {
          "output_type": "stream",
          "name": "stderr",
          "text": [
            "/usr/local/lib/python3.7/dist-packages/pyspark/sql/context.py:79: FutureWarning: Deprecated in 3.0.0. Use SparkSession.builder.getOrCreate() instead.\n",
            "  FutureWarning\n"
          ]
        }
      ]
    },
    {
      "cell_type": "code",
      "metadata": {
        "colab": {
          "base_uri": "https://localhost:8080/"
        },
        "id": "lZftLfxaDVQA",
        "outputId": "1ef52ef7-a921-4f6f-eebb-f63f7c14317d"
      },
      "source": [
        "twitterDf = sql_context.read.format('com.databricks.spark.csv').option('header','false').option(\"delimiter\", \",\").load(twitter_file)\n",
        "\n",
        "twitterDf.show()"
      ],
      "execution_count": 9,
      "outputs": [
        {
          "output_type": "stream",
          "name": "stdout",
          "text": [
            "+---+----------+--------------------+--------+---------------+--------------------+\n",
            "|_c0|       _c1|                 _c2|     _c3|            _c4|                 _c5|\n",
            "+---+----------+--------------------+--------+---------------+--------------------+\n",
            "|  0|1467810369|Mon Apr 06 22:19:...|NO_QUERY|_TheSpecialOne_|@switchfoot http:...|\n",
            "|  0|1467810672|Mon Apr 06 22:19:...|NO_QUERY|  scotthamilton|is upset that he ...|\n",
            "|  0|1467810917|Mon Apr 06 22:19:...|NO_QUERY|       mattycus|@Kenichan I dived...|\n",
            "|  0|1467811184|Mon Apr 06 22:19:...|NO_QUERY|        ElleCTF|my whole body fee...|\n",
            "|  0|1467811193|Mon Apr 06 22:19:...|NO_QUERY|         Karoli|@nationwideclass ...|\n",
            "|  0|1467811372|Mon Apr 06 22:20:...|NO_QUERY|       joy_wolf|@Kwesidei not the...|\n",
            "|  0|1467811592|Mon Apr 06 22:20:...|NO_QUERY|        mybirch|         Need a hug |\n",
            "|  0|1467811594|Mon Apr 06 22:20:...|NO_QUERY|           coZZ|@LOLTrish hey  lo...|\n",
            "|  0|1467811795|Mon Apr 06 22:20:...|NO_QUERY|2Hood4Hollywood|@Tatiana_K nope t...|\n",
            "|  0|1467812025|Mon Apr 06 22:20:...|NO_QUERY|        mimismo|@twittera que me ...|\n",
            "|  0|1467812416|Mon Apr 06 22:20:...|NO_QUERY| erinx3leannexo|spring break in p...|\n",
            "|  0|1467812579|Mon Apr 06 22:20:...|NO_QUERY|   pardonlauren|I just re-pierced...|\n",
            "|  0|1467812723|Mon Apr 06 22:20:...|NO_QUERY|           TLeC|@caregiving I cou...|\n",
            "|  0|1467812771|Mon Apr 06 22:20:...|NO_QUERY|robrobbierobert|@octolinz16 It it...|\n",
            "|  0|1467812784|Mon Apr 06 22:20:...|NO_QUERY|    bayofwolves|@smarrison i woul...|\n",
            "|  0|1467812799|Mon Apr 06 22:20:...|NO_QUERY|     HairByJess|@iamjazzyfizzle I...|\n",
            "|  0|1467812964|Mon Apr 06 22:20:...|NO_QUERY| lovesongwriter|Hollis' death sce...|\n",
            "|  0|1467813137|Mon Apr 06 22:20:...|NO_QUERY|       armotley|about to file taxes |\n",
            "|  0|1467813579|Mon Apr 06 22:20:...|NO_QUERY|     starkissed|@LettyA ahh ive a...|\n",
            "|  0|1467813782|Mon Apr 06 22:20:...|NO_QUERY|      gi_gi_bee|@FakerPattyPattz ...|\n",
            "+---+----------+--------------------+--------+---------------+--------------------+\n",
            "only showing top 20 rows\n",
            "\n"
          ]
        }
      ]
    },
    {
      "cell_type": "code",
      "metadata": {
        "id": "fO5BmuVgHk-S"
      },
      "source": [
        "from pyspark.sql.functions import regexp_replace\n",
        "\n",
        "twitterDf = twitterDf.withColumn(\"_c5\", regexp_replace(\"_c5\", \"@[A-Za-z0-9]+\", \"\"))\n",
        "twitterDf = twitterDf.withColumn(\"_c5\", regexp_replace(\"_c5\", \"(?:\\@|http?\\://|https?\\://|www)\\S+\", \"\"))\n",
        "#tw = tw.withColumn(\"Tweet\", regexp_replace(\"Tweet\", \"#[A-Za-z0-9]+\", \"\"))\n",
        "twitterDf = twitterDf.withColumn(\"_c5\", regexp_replace(\"_c5\", \"'\", \"\"))\n",
        "twitterDf = twitterDf.withColumn(\"_c5\", regexp_replace(\"_c5\", \"[^A-Za-z0-9]+\", \" \"))\n",
        "twitterDf = twitterDf.withColumn(\"_c5\", f.lower(f.col(\"_c5\")) )"
      ],
      "execution_count": 10,
      "outputs": []
    },
    {
      "cell_type": "code",
      "metadata": {
        "colab": {
          "base_uri": "https://localhost:8080/"
        },
        "id": "Hp3OjL-nZd8z",
        "outputId": "6596b53d-be2f-4db0-eb4f-56c4debd40f3"
      },
      "source": [
        "twitterDf.tail(5)"
      ],
      "execution_count": 11,
      "outputs": [
        {
          "output_type": "execute_result",
          "data": {
            "text/plain": [
              "[Row(_c0='4', _c1='2193601966', _c2='Tue Jun 16 08:40:49 PDT 2009', _c3='NO_QUERY', _c4='AmandaMarie1028', _c5='just woke up having no school is the best feeling ever '),\n",
              " Row(_c0='4', _c1='2193601969', _c2='Tue Jun 16 08:40:49 PDT 2009', _c3='NO_QUERY', _c4='TheWDBoards', _c5='thewdb com very cool to hear old walt interviews '),\n",
              " Row(_c0='4', _c1='2193601991', _c2='Tue Jun 16 08:40:49 PDT 2009', _c3='NO_QUERY', _c4='bpbabe', _c5='are you ready for your mojo makeover ask me for details '),\n",
              " Row(_c0='4', _c1='2193602064', _c2='Tue Jun 16 08:40:49 PDT 2009', _c3='NO_QUERY', _c4='tinydiamondz', _c5='happy 38th birthday to my boo of alll time tupac amaru shakur '),\n",
              " Row(_c0='4', _c1='2193602129', _c2='Tue Jun 16 08:40:50 PDT 2009', _c3='NO_QUERY', _c4='RyanTrevMorris', _c5='happy charitytuesday ')]"
            ]
          },
          "metadata": {},
          "execution_count": 11
        }
      ]
    },
    {
      "cell_type": "code",
      "metadata": {
        "id": "Bw53ZLaqJSRv"
      },
      "source": [
        "stopwordList = nltk.corpus.stopwords.words('english')"
      ],
      "execution_count": 12,
      "outputs": []
    },
    {
      "cell_type": "code",
      "metadata": {
        "id": "8uuicxEd7i-n"
      },
      "source": [
        "from pyspark.sql.types import DoubleType\n",
        "\n",
        "twitterDf = twitterDf.withColumn(\"_c0\", twitterDf[\"_c0\"].cast(DoubleType()))"
      ],
      "execution_count": 13,
      "outputs": []
    },
    {
      "cell_type": "code",
      "metadata": {
        "id": "gLZJ6YtrVtQS"
      },
      "source": [
        "\n",
        "trainDF, testDF = twitterDf.randomSplit([0.80, 0.20], seed=2000)"
      ],
      "execution_count": 14,
      "outputs": []
    },
    {
      "cell_type": "code",
      "metadata": {
        "colab": {
          "base_uri": "https://localhost:8080/"
        },
        "id": "HJDiUSLv0145",
        "outputId": "fd3db6d2-992c-4d24-cc42-503050b61069"
      },
      "source": [
        "testDF.show(5,truncate=False)"
      ],
      "execution_count": 15,
      "outputs": [
        {
          "output_type": "stream",
          "name": "stdout",
          "text": [
            "+---+----------+----------------------------+--------+---------------+----------------------------------------------------------------------------------------+\n",
            "|_c0|_c1       |_c2                         |_c3     |_c4            |_c5                                                                                     |\n",
            "+---+----------+----------------------------+--------+---------------+----------------------------------------------------------------------------------------+\n",
            "|0.0|1467812723|Mon Apr 06 22:20:19 PDT 2009|NO_QUERY|TLeC           | i couldnt bear to watch it and i thought the ua loss was embarrassing                  |\n",
            "|0.0|1467812771|Mon Apr 06 22:20:19 PDT 2009|NO_QUERY|robrobbierobert| it it counts idk why i did either you never talk to me anymore                         |\n",
            "|0.0|1467812799|Mon Apr 06 22:20:20 PDT 2009|NO_QUERY|HairByJess     | i wish i got to watch it with you i miss you and how was the premiere                  |\n",
            "|0.0|1467814119|Mon Apr 06 22:20:40 PDT 2009|NO_QUERY|cooliodoc      | barista i baked you a cake but i ated it                                               |\n",
            "|0.0|1467818020|Mon Apr 06 22:21:39 PDT 2009|NO_QUERY|itsanimesh     |really dont feel like getting up today but got to study to for tomorrows practical exam |\n",
            "+---+----------+----------------------------+--------+---------------+----------------------------------------------------------------------------------------+\n",
            "only showing top 5 rows\n",
            "\n"
          ]
        }
      ]
    },
    {
      "cell_type": "code",
      "metadata": {
        "id": "V68DoQx3VzCp"
      },
      "source": [
        "from pyspark.ml.feature import HashingTF, IDF, Tokenizer, CountVectorizer\n",
        "from pyspark.ml.feature import StringIndexer\n",
        "from pyspark.ml import Pipeline\n",
        "from pyspark.ml.classification import LogisticRegression\n",
        "from pyspark.ml.evaluation import BinaryClassificationEvaluator"
      ],
      "execution_count": 16,
      "outputs": []
    },
    {
      "cell_type": "code",
      "metadata": {
        "id": "VgKh5XOKV3CB"
      },
      "source": [
        "tokenizer = Tokenizer(inputCol=\"_c5\", outputCol=\"words\")\n",
        "stopwordremover=StopWordsRemover(inputCol=\"words\", outputCol=\"TweetWithStopwordsfree\")\n",
        "hashtf = HashingTF(numFeatures=2**16, inputCol=\"TweetWithStopwordsfree\", outputCol='tf')\n",
        "idf = IDF(inputCol='tf', outputCol=\"features\", minDocFreq=5) #minDocFreq: remove sparse terms\n",
        "#label_stringIdx = StringIndexer(inputCol = \"target\", outputCol = \"label\")\n",
        "pipeline = Pipeline(stages=[tokenizer,stopwordremover, hashtf, idf])\n",
        "\n",
        "pipelineFit = pipeline.fit(twitterDf)\n"
      ],
      "execution_count": 17,
      "outputs": []
    },
    {
      "cell_type": "code",
      "metadata": {
        "colab": {
          "base_uri": "https://localhost:8080/"
        },
        "id": "FhwM-KBdEQR6",
        "outputId": "15b17944-4f1e-4903-b523-d7a8eca8540d"
      },
      "source": [
        "trainDF = pipelineFit.transform(trainDF)\n",
        "testDF = pipelineFit.transform(testDF)\n",
        "trainDF.show(5)"
      ],
      "execution_count": 18,
      "outputs": [
        {
          "output_type": "stream",
          "name": "stdout",
          "text": [
            "+---+----------+--------------------+--------+---------------+--------------------+--------------------+----------------------+--------------------+--------------------+\n",
            "|_c0|       _c1|                 _c2|     _c3|            _c4|                 _c5|               words|TweetWithStopwordsfree|                  tf|            features|\n",
            "+---+----------+--------------------+--------+---------------+--------------------+--------------------+----------------------+--------------------+--------------------+\n",
            "|0.0|1467810369|Mon Apr 06 22:19:...|NO_QUERY|_TheSpecialOne_| a thats a bummer...|[, a, thats, a, b...|  [, thats, bummer,...|(65536,[10345,216...|(65536,[10345,216...|\n",
            "|0.0|1467810672|Mon Apr 06 22:19:...|NO_QUERY|  scotthamilton|is upset that he ...|[is, upset, that,...|  [upset, cant, upd...|(65536,[16064,193...|(65536,[16064,193...|\n",
            "|0.0|1467810917|Mon Apr 06 22:19:...|NO_QUERY|       mattycus| i dived many tim...|[, i, dived, many...|  [, dived, many, t...|(65536,[2548,2888...|(65536,[2548,2888...|\n",
            "|0.0|1467811184|Mon Apr 06 22:19:...|NO_QUERY|        ElleCTF|my whole body fee...|[my, whole, body,...|  [whole, body, fee...|(65536,[11650,151...|(65536,[11650,151...|\n",
            "|0.0|1467811193|Mon Apr 06 22:19:...|NO_QUERY|         Karoli| no its not behav...|[, no, its, not, ...|  [, behaving, im, ...|(65536,[1968,8538...|(65536,[1968,8538...|\n",
            "+---+----------+--------------------+--------+---------------+--------------------+--------------------+----------------------+--------------------+--------------------+\n",
            "only showing top 5 rows\n",
            "\n"
          ]
        }
      ]
    },
    {
      "cell_type": "code",
      "metadata": {
        "id": "DKkhc_p4lDrU"
      },
      "source": [
        "from pyspark.ml.classification import LogisticRegression\n",
        "lr = LogisticRegression(maxIter=100)\n",
        "trainDF=trainDF.selectExpr(\"_c0 as label\", \"_c5 as text\",\"words\",\"TweetWithStopwordsfree\", \"tf\",\"features\")\n",
        "lrModel = lr.fit(trainDF)\n",
        "testDF=testDF.selectExpr(\"_c0 as label\", \"_c5 as text\",\"words\",\"TweetWithStopwordsfree\", \"tf\",\"features\")\n",
        "predictions = lrModel.transform(testDF)"
      ],
      "execution_count": 19,
      "outputs": []
    },
    {
      "cell_type": "code",
      "metadata": {
        "colab": {
          "base_uri": "https://localhost:8080/"
        },
        "id": "dSQN-Fp5mSu4",
        "outputId": "75885e69-0ffd-4acd-ce85-ea1aa6e0c045"
      },
      "source": [
        "predictions.show(5)"
      ],
      "execution_count": 20,
      "outputs": [
        {
          "output_type": "stream",
          "name": "stdout",
          "text": [
            "+-----+--------------------+--------------------+----------------------+--------------------+--------------------+--------------------+--------------------+----------+\n",
            "|label|                text|               words|TweetWithStopwordsfree|                  tf|            features|       rawPrediction|         probability|prediction|\n",
            "+-----+--------------------+--------------------+----------------------+--------------------+--------------------+--------------------+--------------------+----------+\n",
            "|  0.0| i couldnt bear t...|[, i, couldnt, be...|  [, couldnt, bear,...|(65536,[513,8997,...|(65536,[513,8997,...|[9.30412012010187...|[0.92843932358713...|       0.0|\n",
            "|  0.0| it it counts idk...|[, it, it, counts...|  [, counts, idk, e...|(65536,[6589,1383...|(65536,[6589,1383...|[9.16107302381454...|[0.90692659025276...|       0.0|\n",
            "|  0.0| i wish i got to ...|[, i, wish, i, go...|  [, wish, got, wat...|(65536,[20719,292...|(65536,[20719,292...|[9.62126269400567...|[0.96072507588899...|       0.0|\n",
            "|  0.0| barista i baked ...|[, barista, i, ba...|  [, barista, baked...|(65536,[13007,425...|(65536,[13007,425...|[7.52225552892675...|[0.26860866848533...|       4.0|\n",
            "|  0.0|really dont feel ...|[really, dont, fe...|  [really, dont, fe...|(65536,[1328,3642...|(65536,[1328,3642...|[9.71663491977850...|[0.96732345996166...|       0.0|\n",
            "+-----+--------------------+--------------------+----------------------+--------------------+--------------------+--------------------+--------------------+----------+\n",
            "only showing top 5 rows\n",
            "\n"
          ]
        }
      ]
    },
    {
      "cell_type": "code",
      "metadata": {
        "colab": {
          "base_uri": "https://localhost:8080/"
        },
        "id": "Yuqi-Qg4laU8",
        "outputId": "4abd56e6-b2b7-4be0-c22b-2d56774fe65d"
      },
      "source": [
        "\n",
        "from pyspark.ml.evaluation import MulticlassClassificationEvaluator\n",
        "\n",
        "\n",
        "evaluator = MulticlassClassificationEvaluator(predictionCol=\"prediction\")\n",
        "evaluator.evaluate(predictions)"
      ],
      "execution_count": 21,
      "outputs": [
        {
          "output_type": "execute_result",
          "data": {
            "text/plain": [
              "0.7703392688829602"
            ]
          },
          "metadata": {},
          "execution_count": 21
        }
      ]
    },
    {
      "cell_type": "code",
      "metadata": {
        "id": "HsmrXm6OnNqo"
      },
      "source": [
        "tweets1 = sql_context.read.format('com.databricks.spark.csv').option('header','false').option(\"delimiter\", \",\").load('/content/gdrive/MyDrive/Colab Notebooks/BigDataProject/categoryPredictedDataset/catpredicted.csv')\n",
        "tweets2 = sql_context.read.format('com.databricks.spark.csv').option('header','false').option(\"delimiter\", \",\").load('/content/gdrive/MyDrive/Colab Notebooks/BigDataProject/categoryPredictedDataset/catpredicted2.csv')"
      ],
      "execution_count": 24,
      "outputs": []
    },
    {
      "cell_type": "code",
      "metadata": {
        "colab": {
          "base_uri": "https://localhost:8080/"
        },
        "id": "32YFgegLpARj",
        "outputId": "b401e7fb-b070-4b64-f493-0d142344aa48"
      },
      "source": [
        "tweets1.show()\n",
        "tweets2.show()"
      ],
      "execution_count": 25,
      "outputs": [
        {
          "output_type": "stream",
          "name": "stdout",
          "text": [
            "+--------------------+-------------+\n",
            "|                 _c0|          _c1|\n",
            "+--------------------+-------------+\n",
            "|gonna try this mi...|        sport|\n",
            "|the older we get ...|         tech|\n",
            "|lawyer for journa...|    political|\n",
            "|     this is so cute|     business|\n",
            "|yeah what happene...|entertainment|\n",
            "|      good for you x|entertainment|\n",
            "|just sold get you...|         tech|\n",
            "|us health officia...|    political|\n",
            "|       1990 with him|entertainment|\n",
            "|not sure this is ...|         tech|\n",
            "|feels like we wen...|        sport|\n",
            "|            twittodz|     business|\n",
            "|my dog and i look...|entertainment|\n",
            "|blew this into sh...|entertainment|\n",
            "|these communists ...|        sport|\n",
            "|so excited to get...|         tech|\n",
            "|   himeru looks at u|entertainment|\n",
            "|i t s b e e n a q...|        sport|\n",
            "|samsung galaxy s2...|         tech|\n",
            "|this man will joi...|entertainment|\n",
            "+--------------------+-------------+\n",
            "only showing top 20 rows\n",
            "\n",
            "+--------------------+-------------+\n",
            "|                 _c0|          _c1|\n",
            "+--------------------+-------------+\n",
            "|how does the djs ...|entertainment|\n",
            "|imagine you ina s...|entertainment|\n",
            "|after 5 weeks bas...|entertainment|\n",
            "|alpha i would lov...|         tech|\n",
            "|today s meditatio...|entertainment|\n",
            "|03146 i clearly h...|    political|\n",
            "|    morning sex any1|entertainment|\n",
            "|good bye to good ...|entertainment|\n",
            "|lmfao right like ...|    political|\n",
            "|you guys are down...|entertainment|\n",
            "|hurry up to get y...|         tech|\n",
            "|some nightfood pa...|     business|\n",
            "|1 clay did not ag...|    political|\n",
            "|just as always ev...|entertainment|\n",
            "|and we ll be tuni...|entertainment|\n",
            "|life is a gift pr...|         tech|\n",
            "|sell holo shaq en...|     business|\n",
            "|12 some kids star...|         tech|\n",
            "|gaethje quickly b...|         tech|\n",
            "|hey au your inter...|     business|\n",
            "+--------------------+-------------+\n",
            "only showing top 20 rows\n",
            "\n"
          ]
        }
      ]
    },
    {
      "cell_type": "code",
      "metadata": {
        "id": "6dXzzLXCnSbI"
      },
      "source": [
        "import functools\n",
        "  \n",
        "def unionAll(dfs):\n",
        "    return functools.reduce(lambda df1, df2: df1.union(df2.select(df1.columns)), dfs)"
      ],
      "execution_count": 26,
      "outputs": []
    },
    {
      "cell_type": "code",
      "metadata": {
        "colab": {
          "base_uri": "https://localhost:8080/"
        },
        "id": "LfG_cKwHnUl4",
        "outputId": "bf6fcc3b-d419-45c6-f299-236b1872d10d"
      },
      "source": [
        "tweets = unionAll([tweets2, tweets1])\n",
        "print(tweets.count())"
      ],
      "execution_count": 27,
      "outputs": [
        {
          "output_type": "stream",
          "name": "stdout",
          "text": [
            "71730\n"
          ]
        }
      ]
    },
    {
      "cell_type": "code",
      "metadata": {
        "id": "FV3LUmRWpOjD"
      },
      "source": [
        ""
      ],
      "execution_count": 27,
      "outputs": []
    },
    {
      "cell_type": "code",
      "source": [
        ""
      ],
      "metadata": {
        "id": "zVFv-LysQ_-l"
      },
      "execution_count": 27,
      "outputs": []
    },
    {
      "cell_type": "code",
      "metadata": {
        "colab": {
          "base_uri": "https://localhost:8080/"
        },
        "id": "qwgh_h4CL92C",
        "outputId": "0935c99d-c2fd-486b-e591-84f8bd331e55"
      },
      "source": [
        "tweets.show()"
      ],
      "execution_count": 28,
      "outputs": [
        {
          "output_type": "stream",
          "name": "stdout",
          "text": [
            "+--------------------+-------------+\n",
            "|                 _c0|          _c1|\n",
            "+--------------------+-------------+\n",
            "|how does the djs ...|entertainment|\n",
            "|imagine you ina s...|entertainment|\n",
            "|after 5 weeks bas...|entertainment|\n",
            "|alpha i would lov...|         tech|\n",
            "|today s meditatio...|entertainment|\n",
            "|03146 i clearly h...|    political|\n",
            "|    morning sex any1|entertainment|\n",
            "|good bye to good ...|entertainment|\n",
            "|lmfao right like ...|    political|\n",
            "|you guys are down...|entertainment|\n",
            "|hurry up to get y...|         tech|\n",
            "|some nightfood pa...|     business|\n",
            "|1 clay did not ag...|    political|\n",
            "|just as always ev...|entertainment|\n",
            "|and we ll be tuni...|entertainment|\n",
            "|life is a gift pr...|         tech|\n",
            "|sell holo shaq en...|     business|\n",
            "|12 some kids star...|         tech|\n",
            "|gaethje quickly b...|         tech|\n",
            "|hey au your inter...|     business|\n",
            "+--------------------+-------------+\n",
            "only showing top 20 rows\n",
            "\n"
          ]
        }
      ]
    },
    {
      "cell_type": "code",
      "metadata": {
        "id": "VbXMMjxapnWF"
      },
      "source": [
        "tweets = tweets.selectExpr(\"_c0 as _c5\",\"_c1 as catlabel\")"
      ],
      "execution_count": 29,
      "outputs": []
    },
    {
      "cell_type": "code",
      "metadata": {
        "colab": {
          "base_uri": "https://localhost:8080/"
        },
        "id": "ujiBmGyhp2i1",
        "outputId": "c4dcf617-f038-489c-ba75-e8f3efcead3f"
      },
      "source": [
        "tweets.show()"
      ],
      "execution_count": 30,
      "outputs": [
        {
          "output_type": "stream",
          "name": "stdout",
          "text": [
            "+--------------------+-------------+\n",
            "|                 _c5|     catlabel|\n",
            "+--------------------+-------------+\n",
            "|how does the djs ...|entertainment|\n",
            "|imagine you ina s...|entertainment|\n",
            "|after 5 weeks bas...|entertainment|\n",
            "|alpha i would lov...|         tech|\n",
            "|today s meditatio...|entertainment|\n",
            "|03146 i clearly h...|    political|\n",
            "|    morning sex any1|entertainment|\n",
            "|good bye to good ...|entertainment|\n",
            "|lmfao right like ...|    political|\n",
            "|you guys are down...|entertainment|\n",
            "|hurry up to get y...|         tech|\n",
            "|some nightfood pa...|     business|\n",
            "|1 clay did not ag...|    political|\n",
            "|just as always ev...|entertainment|\n",
            "|and we ll be tuni...|entertainment|\n",
            "|life is a gift pr...|         tech|\n",
            "|sell holo shaq en...|     business|\n",
            "|12 some kids star...|         tech|\n",
            "|gaethje quickly b...|         tech|\n",
            "|hey au your inter...|     business|\n",
            "+--------------------+-------------+\n",
            "only showing top 20 rows\n",
            "\n"
          ]
        }
      ]
    },
    {
      "cell_type": "code",
      "metadata": {
        "id": "8tOikkOYqzTO"
      },
      "source": [
        "sentimantpredictions = pipelineFit.transform(tweets)"
      ],
      "execution_count": 31,
      "outputs": []
    },
    {
      "cell_type": "code",
      "metadata": {
        "id": "_jLa_T9-qdNu"
      },
      "source": [
        "sentimantpredictions = lrModel.transform(sentimantpredictions)"
      ],
      "execution_count": 32,
      "outputs": []
    },
    {
      "cell_type": "code",
      "metadata": {
        "colab": {
          "base_uri": "https://localhost:8080/"
        },
        "id": "id1plL4Nq6kO",
        "outputId": "963255e7-1ccf-4129-c82c-d42befedcaf0"
      },
      "source": [
        "sentimantpredictions.show()"
      ],
      "execution_count": 33,
      "outputs": [
        {
          "output_type": "stream",
          "name": "stdout",
          "text": [
            "+--------------------+-------------+--------------------+----------------------+--------------------+--------------------+--------------------+--------------------+----------+\n",
            "|                 _c5|     catlabel|               words|TweetWithStopwordsfree|                  tf|            features|       rawPrediction|         probability|prediction|\n",
            "+--------------------+-------------+--------------------+----------------------+--------------------+--------------------+--------------------+--------------------+----------+\n",
            "|how does the djs ...|entertainment|[how, does, the, ...|  [djs, know, mix, ...|(65536,[9859,1951...|(65536,[9859,1951...|[6.46699089260116...|[0.04264810985613...|       4.0|\n",
            "|imagine you ina s...|entertainment|[imagine, you, in...|  [imagine, ina, sh...|(65536,[1585,2239...|(65536,[1585,2239...|[7.68345257597664...|[0.33663914607310...|       4.0|\n",
            "|after 5 weeks bas...|entertainment|[after, 5, weeks,...|  [5, weeks, based,...|(65536,[329,5104,...|(65536,[329,5104,...|[10.7164779538345...|[0.99544751508622...|       0.0|\n",
            "|alpha i would lov...|         tech|[alpha, i, would,...|  [alpha, love, mak...|(65536,[5377,1095...|(65536,[5377,1095...|[7.09633287468054...|[0.13547377912367...|       4.0|\n",
            "|today s meditatio...|entertainment|[today, s, medita...|  [today, meditatio...|(65536,[21444,530...|(65536,[21444,530...|[7.12601721687302...|[0.14260847404487...|       4.0|\n",
            "|03146 i clearly h...|    political|[03146, i, clearl...|  [03146, clearly, ...|(65536,[4020,1116...|(65536,[4020,1116...|[8.86112820330861...|[0.84233288536288...|       0.0|\n",
            "|    morning sex any1|entertainment|[morning, sex, any1]|  [morning, sex, any1]|(65536,[600,51732...|(65536,[600,51732...|[7.67617862410502...|[0.33317445750092...|       4.0|\n",
            "|good bye to good ...|entertainment|[good, bye, to, g...|  [good, bye, good,...|(65536,[843,10439...|(65536,[843,10439...|[8.26002310960873...|[0.61652303815290...|       0.0|\n",
            "|lmfao right like ...|    political|[lmfao, right, li...|  [lmfao, right, li...|(65536,[1512,3917...|(65536,[1512,3917...|[7.56434457066263...|[0.28557178873162...|       4.0|\n",
            "|you guys are down...|entertainment|[you, guys, are, ...|  [guys, right, bad...|(65536,[14308,181...|(65536,[14308,181...|[8.73810185113802...|[0.80700053325212...|       0.0|\n",
            "|hurry up to get y...|         tech|[hurry, up, to, g...|  [hurry, get, favo...|(65536,[8601,1169...|(65536,[8601,1169...|[7.32408135302190...|[0.19815376969472...|       4.0|\n",
            "|some nightfood pa...|     business|[some, nightfood,...|  [nightfood, pasta...|(65536,[1257,7906...|(65536,[1257,7906...|[6.92007761194567...|[0.09926530329872...|       4.0|\n",
            "|1 clay did not ag...|    political|[1, clay, did, no...|  [1, clay, agree, ...|(65536,[16706,260...|(65536,[16706,260...|[7.0822330451181,...|[0.13225246098556...|       4.0|\n",
            "|just as always ev...|entertainment|[just, as, always...|  [always, ev, gave...|(65536,[2808,6562...|(65536,[2808,6562...|[6.19923858344918...|[0.02540742268565...|       4.0|\n",
            "|and we ll be tuni...|entertainment|[and, we, ll, be,...|    [ll, tuning, king]|(65536,[10302,515...|(65536,[10302,515...|[7.54291815757823...|[0.27683610850080...|       4.0|\n",
            "|life is a gift pr...|         tech|[life, is, a, gif...|  [life, gift, prec...|(65536,[2701,7482...|(65536,[2701,7482...|[6.14840156694920...|[0.02300635704227...|       4.0|\n",
            "|sell holo shaq en...|     business|[sell, holo, shaq...|  [sell, holo, shaq...|(65536,[2189,3073...|(65536,[2189,3073...|[8.64993025695889...|[0.77796017912093...|       0.0|\n",
            "|12 some kids star...|         tech|[12, some, kids, ...|  [12, kids, start,...|(65536,[1434,6327...|(65536,[1434,6327...|[7.70655851569934...|[0.34681281534345...|       4.0|\n",
            "|gaethje quickly b...|         tech|[gaethje, quickly...|  [gaethje, quickly...|(65536,[2639,1364...|(65536,[2639,1364...|[7.65878243561361...|[0.32550859422314...|       4.0|\n",
            "|hey au your inter...|     business|[hey, au, your, i...|  [hey, au, interes...|(65536,[1361,1682...|(65536,[1361,1682...|[7.33743210301212...|[0.20249803810536...|       4.0|\n",
            "+--------------------+-------------+--------------------+----------------------+--------------------+--------------------+--------------------+--------------------+----------+\n",
            "only showing top 20 rows\n",
            "\n"
          ]
        }
      ]
    },
    {
      "cell_type": "code",
      "metadata": {
        "id": "vVLx8bnNrFSW"
      },
      "source": [
        "sentimantpredictions=sentimantpredictions.drop(\"words\",\"TweetWithStopwordsfree\",\"tf\",\"features\",\"rawPrediction\",\"probability\")"
      ],
      "execution_count": 34,
      "outputs": []
    },
    {
      "cell_type": "code",
      "metadata": {
        "colab": {
          "base_uri": "https://localhost:8080/"
        },
        "id": "EJWGByJzrTz3",
        "outputId": "6fa03966-dc91-49c8-e55e-bc56f8619b92"
      },
      "source": [
        "sentimantpredictions.show()"
      ],
      "execution_count": 35,
      "outputs": [
        {
          "output_type": "stream",
          "name": "stdout",
          "text": [
            "+--------------------+-------------+----------+\n",
            "|                 _c5|     catlabel|prediction|\n",
            "+--------------------+-------------+----------+\n",
            "|how does the djs ...|entertainment|       4.0|\n",
            "|imagine you ina s...|entertainment|       4.0|\n",
            "|after 5 weeks bas...|entertainment|       0.0|\n",
            "|alpha i would lov...|         tech|       4.0|\n",
            "|today s meditatio...|entertainment|       4.0|\n",
            "|03146 i clearly h...|    political|       0.0|\n",
            "|    morning sex any1|entertainment|       4.0|\n",
            "|good bye to good ...|entertainment|       0.0|\n",
            "|lmfao right like ...|    political|       4.0|\n",
            "|you guys are down...|entertainment|       0.0|\n",
            "|hurry up to get y...|         tech|       4.0|\n",
            "|some nightfood pa...|     business|       4.0|\n",
            "|1 clay did not ag...|    political|       4.0|\n",
            "|just as always ev...|entertainment|       4.0|\n",
            "|and we ll be tuni...|entertainment|       4.0|\n",
            "|life is a gift pr...|         tech|       4.0|\n",
            "|sell holo shaq en...|     business|       0.0|\n",
            "|12 some kids star...|         tech|       4.0|\n",
            "|gaethje quickly b...|         tech|       4.0|\n",
            "|hey au your inter...|     business|       4.0|\n",
            "+--------------------+-------------+----------+\n",
            "only showing top 20 rows\n",
            "\n"
          ]
        }
      ]
    },
    {
      "cell_type": "code",
      "metadata": {
        "id": "0AoKQ7IOrq6v"
      },
      "source": [
        "sentimantpredictions.write.csv(\"/content/gdrive/MyDrive/Colab Notebooks/finalprediction\")"
      ],
      "execution_count": 36,
      "outputs": []
    },
    {
      "cell_type": "code",
      "source": [
        ""
      ],
      "metadata": {
        "id": "haKfeNrrS7OD"
      },
      "execution_count": null,
      "outputs": []
    }
  ]
}