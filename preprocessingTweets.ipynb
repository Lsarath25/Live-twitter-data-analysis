{
  "nbformat": 4,
  "nbformat_minor": 0,
  "metadata": {
    "colab": {
      "name": "preprocessingTweets.ipynb",
      "provenance": [],
      "collapsed_sections": []
    },
    "kernelspec": {
      "name": "python3",
      "display_name": "Python 3"
    },
    "language_info": {
      "name": "python"
    }
  },
  "cells": [
    {
      "cell_type": "code",
      "metadata": {
        "colab": {
          "base_uri": "https://localhost:8080/"
        },
        "id": "2EpzXQS0MQMU",
        "outputId": "6ed6f043-11f6-4103-bce9-730afa715de9"
      },
      "source": [
        "pip install pyspark"
      ],
      "execution_count": 1,
      "outputs": [
        {
          "output_type": "stream",
          "name": "stdout",
          "text": [
            "Collecting pyspark\n",
            "  Downloading pyspark-3.2.1.tar.gz (281.4 MB)\n",
            "\u001b[K     |████████████████████████████████| 281.4 MB 34 kB/s \n",
            "\u001b[?25hCollecting py4j==0.10.9.3\n",
            "  Downloading py4j-0.10.9.3-py2.py3-none-any.whl (198 kB)\n",
            "\u001b[K     |████████████████████████████████| 198 kB 54.5 MB/s \n",
            "\u001b[?25hBuilding wheels for collected packages: pyspark\n",
            "  Building wheel for pyspark (setup.py) ... \u001b[?25l\u001b[?25hdone\n",
            "  Created wheel for pyspark: filename=pyspark-3.2.1-py2.py3-none-any.whl size=281853642 sha256=d128cbd6dfc798d77d20c08404028b90eca59fad34370e65b28d8a3adf59d442\n",
            "  Stored in directory: /root/.cache/pip/wheels/9f/f5/07/7cd8017084dce4e93e84e92efd1e1d5334db05f2e83bcef74f\n",
            "Successfully built pyspark\n",
            "Installing collected packages: py4j, pyspark\n",
            "Successfully installed py4j-0.10.9.3 pyspark-3.2.1\n"
          ]
        }
      ]
    },
    {
      "cell_type": "code",
      "metadata": {
        "id": "Sa2C4hEqMlDD"
      },
      "source": [
        "#importing pyspark library\n",
        "import pyspark as ps"
      ],
      "execution_count": 33,
      "outputs": []
    },
    {
      "cell_type": "code",
      "metadata": {
        "colab": {
          "base_uri": "https://localhost:8080/"
        },
        "id": "B8vYWfPtMaN8",
        "outputId": "5ddabd70-728d-40b1-82c4-1b48489535d5"
      },
      "source": [
        "#setting configaration and creating sql context object \n",
        "conf = ps.SparkConf().setAll([('spark.executor.memory', '16g'), ('spark.driver.memory', '16g')])\n",
        "sc = ps.SparkContext(conf=conf)\n",
        "from pyspark.sql import SQLContext\n",
        "\n",
        "sql_context = SQLContext(sc)"
      ],
      "execution_count": 34,
      "outputs": [
        {
          "output_type": "stream",
          "name": "stderr",
          "text": [
            "/usr/local/lib/python3.7/dist-packages/pyspark/sql/context.py:79: FutureWarning: Deprecated in 3.0.0. Use SparkSession.builder.getOrCreate() instead.\n",
            "  FutureWarning\n"
          ]
        }
      ]
    },
    {
      "cell_type": "code",
      "metadata": {
        "colab": {
          "base_uri": "https://localhost:8080/"
        },
        "id": "zCl3h5AKLXyY",
        "outputId": "aa2a1dbf-e8bd-456a-843e-592d9eea912c"
      },
      "source": [
        "#connectiong to drive\n",
        "from google.colab import drive\n",
        "drive.mount('/content/gdrive')"
      ],
      "execution_count": 35,
      "outputs": [
        {
          "output_type": "stream",
          "name": "stdout",
          "text": [
            "Drive already mounted at /content/gdrive; to attempt to forcibly remount, call drive.mount(\"/content/gdrive\", force_remount=True).\n"
          ]
        }
      ]
    },
    {
      "cell_type": "code",
      "metadata": {
        "id": "9kZMrm2eJJQD"
      },
      "source": [
        "#setting data set path\n",
        "file=\"/content/gdrive/MyDrive/livetweets.csv\""
      ],
      "execution_count": 36,
      "outputs": []
    },
    {
      "cell_type": "code",
      "metadata": {
        "id": "Mm1qJyn2KBie"
      },
      "source": [
        "#reading csv with headers\n",
        "tweets = sql_context.read.format('com.databricks.spark.csv').option('header','true').option(\"delimiter\", \",\").load(file)"
      ],
      "execution_count": 37,
      "outputs": []
    },
    {
      "cell_type": "code",
      "metadata": {
        "colab": {
          "base_uri": "https://localhost:8080/"
        },
        "id": "1pcFgA12KFx-",
        "outputId": "43f6fb1e-110c-43bc-c099-e4cd6dcff538"
      },
      "source": [
        "#tweets count\n",
        "print(tweets.count())"
      ],
      "execution_count": 38,
      "outputs": [
        {
          "output_type": "stream",
          "name": "stdout",
          "text": [
            "305750\n"
          ]
        }
      ]
    },
    {
      "cell_type": "code",
      "metadata": {
        "colab": {
          "base_uri": "https://localhost:8080/"
        },
        "id": "ZhnlX0pSUGH_",
        "outputId": "ac413621-b262-4fe4-ed10-bf97e7ea1c1b"
      },
      "source": [
        "#display complete tweet first 100\n",
        "tweets.show(100,truncate=False)\n"
      ],
      "execution_count": 39,
      "outputs": [
        {
          "output_type": "stream",
          "name": "stdout",
          "text": [
            "+------------------------------------------------------------------------------------------------------------------------------------------------------------+----+\n",
            "|Text                                                                                                                                                        |_c1 |\n",
            "+------------------------------------------------------------------------------------------------------------------------------------------------------------+----+\n",
            "|RT @Mii_Mario_: The kitty cat sleeping with waluigi https://t.co/tMcEt9N7B3                                                                                 |null|\n",
            "|RT @DogsHistorian: From Pydna - Funerary Stele Depicting a Young guy with his Dog - IV century BC - Archaeological #museum of Dion Macedoni…                |null|\n",
            "|RT @RoninDudeArt: Sassy misunderstood and brought a squirtgun to a paintball match 😅 https://t.co/6HM5AS5BxG                                               |null|\n",
            "|gonna try this mix rq https://t.co/SPVcWnOZEa                                                                                                               |null|\n",
            "|RT @ShaxCarter: Shax Carter's vote for Top Ten BBA Scenes of 2020 &amp; 2021 -  #10 Practice Makes Perfect  #BestofBBA2020and2021 @bba_michael…             |null|\n",
            "|The older we get  the more we need our friends—and the harder it is to keep them  @JenSeniorNY writes. What does it… https://t.co/QlGiGJeXFw                |null|\n",
            "|Lawyer for journalist who says Trump raped her tells court they want his DNA https://t.co/oX6OmnJkS6                                                        |null|\n",
            "|RT @nicknelove: my favorite part of heartstopper is at harry’s party when imogen tells nick she likes them and then dances with her friends…                |null|\n",
            "|RT @Neil37166348: Portrait for today. https://t.co/bdLqRNObEo                                                                                               |null|\n",
            "|RT @ohuhmatthew: Disappearing act.   Feat @cam_omo https://t.co/EzOAD6kmDc                                                                                  |null|\n",
            "|RT @rgldsteven: Shower w me 🫣 https://t.co/cfEae8BqTv                                                                                                      |null|\n",
            "|RT @donttellmydad40: Some people eat on their lunch break  I jerk off. 🔥💦🍆 #straight #straightboy #straightguys #studs #hugecumshot #hugeco…             |null|\n",
            "|THIS IS SO CUTE                                                                                                                                             |null|\n",
            "|RT @tinkerbelle_irl: Limited promotion links! Tell me your from twitter for a bonus vid!🙈💗https://t.co/4rUdd9d9Q1 https://t.co/Q2eq0aWk9T                 |null|\n",
            "|RT @ShadedbyShanell: We can’t get over our latest collaboration with @nel.nyc @blacksboxingclub ! Bold  luxe  and daring  the design speaks…                |null|\n",
            "|RT @lexfridman: I thought we had something special... https://t.co/TXbxgMsGht                                                                               |null|\n",
            "|Yeah what happened to Major? Creep.                                                                                                                         |null|\n",
            "|RT @KingIvyXx: Checkout my links and more in bio   🌸Onlyfans🌸https://t.co/FlXnybepal 🌺Fansly🌺 https://t.co/QaDMOfRPDO 🌷Tiktok 🌷 https://t.c…          |null|\n",
            "|RT @FoshPosh: Which pic ? #1 #2 or #3 ? https://t.co/F3PP2SJKrv                                                                                             |null|\n",
            "|RT @qwertee: \"Traces of Stars\" is today's tee on https://t.co/LdSWa6AQI7 ReTweet for a chance at a FREE TEE! https://t.co/yD7cSgNbsd                        |null|\n",
            "|@BarbaraDixon__ Good for you 👍x https://t.co/qBwKhmghFl                                                                                                    |null|\n",
            "|RT @Cernovich: Oh no  this is highly effective  Democrats please don’t do this it’s working too well and will definitely win you elections.                 |null|\n",
            "|Just sold! Get yours! JOI CARD GAME https://t.co/n14ftAI201 #MVSales https://t.co/O4Fuwpb6R7                                                                |null|\n",
            "|US health officials are investigating an unexplained hepatitis outbreak that has left five children dead and more… https://t.co/lJhusf8kw7                  |null|\n",
            "|— 1990 🤍 with him https://t.co/wFAgTzaWek                                                                                                                  |null|\n",
            "|RT @namujjinie: bts but everyone is a duck https://t.co/hqyaHvZZm5                                                                                          |null|\n",
            "|RT @wheezkheed: Proud to be part of this movement 💪🏼                                                                                                      |null|\n",
            "|Not sure this is Imperial Phase Daily Crucible but Russell Spam would have run with that headine.                                                           |null|\n",
            "|RT @PunKandStuff: “Always wear shoes that are good for running or fighting.” - Joe Strummer https://t.co/nuT17PIvnj                                         |null|\n",
            "|RT @Hinano_Castro: If I’m going to be really honest this outfit was way out of my comfort zone but I felt really pretty so fuck other peopl…                |null|\n",
            "|RT @tervisscoot: Rank these four rappers: https://t.co/MjWRNg47ZP                                                                                           |null|\n",
            "|RT @despina71172: Repost #CanYaman ig Back in the days https://t.co/2AeGd4Sjs8                                                                              |null|\n",
            "|Feels like we went from 0 to 60 last week and now back down to maybe a 3.  Slow few days  however  I  guarantee thi… https://t.co/l8sEUjZaab                |null|\n",
            "|RT @crampell: Mitch McConnell says a national abortion ban is 'possible' as GOP candidates dodge topic https://t.co/LgGyT6pHnE                              |null|\n",
            "|RT @CREWcrew: What did Saudi Arabia ask for in exchange for $2 billion to Jared Kushner's new investment fund?                                              |null|\n",
            "|RT @cr7raprhymes: Forget the 5 Ballon D'ors  5 Champions League  Ronaldo scoring 24 Goals with this Manchester United side is his biggest c…                |null|\n",
            "|RT @WeirdInspiroBot: Laugh and punch yourself in you face with your fist https://t.co/GelDmU6vcW                                                            |null|\n",
            "|RT @numenoko: \"Gimme socks to me!\" I made new OCs  ME the ghost with legs and YOU the ghost buster! https://t.co/7I60xkMh1Y                                 |null|\n",
            "|Twittodz                                                                                                                                                    |null|\n",
            "|My dog and I look like we’re laying our rookie cop son to rest https://t.co/rwsBOw5Io9                                                                      |null|\n",
            "|RT @Abuzar_RS: When #waqarzaka said BTC inteqaal krnay wala hy. https://t.co/G7OdOrAGNL                                                                     |null|\n",
            "|RT @viccan1: @blueheartedly The guy that turned it in for one: The 'big guy'  'salacious pics'  and 'mail' folders were ALL CREATED AFTER i…                |null|\n",
            "|RT @victoriaglez666: Cum to me 😈 Get on your knees I want to fuck your throat until you can't stand it💦  The full Video may be available to…              |null|\n",
            "|Blew this into shape with my mouth until lips hurt. Where there's a will  there's a way. https://t.co/KEJOh7g92b                                            |null|\n",
            "|RT @hellcasecom: 👇 Tag The Best Friend &amp; Like 🚀 Follow us 🔥 Retweet this post 😎 The last winner was @fval19    #hellcase #csgo #csgoskin #c…        |null|\n",
            "|RT @FootballFunnnys: Cristiano Ronaldo vs Brighton. 🤣🤣 https://t.co/SW11aH8S3d                                                                            |null|\n",
            "|@GravisMushnick These communists will use any platform available for their spew. Just look what’s happened to the N… https://t.co/hxZ6ti8hfQ                |null|\n",
            "|RT @Dmj_dev: 🎁 WHITELIST GIVEAWAY 🎁  @solchasersdao X @RegulatedNFT   3X WL Spot   🎫 To Enter:  1⃣ Like  RT and tag 2 friends 2⃣ Follow @Re…             |null|\n",
            "|RT @honeyboyyNSFW: since everybody has been so curious https://t.co/VbDUqH6A7c                                                                              |null|\n",
            "|@NotsNfts  So excited to get my First starnots at @StargazeZone today why do I have a money bag instead of a giant… https://t.co/8X7tlFlwDJ                 |null|\n",
            "|RT @TheSkyWriters: Did you see the Skywriting skytyping LADY GAGA - HOLD MY HAND music release for TOP GUN today over Los Angeles?  It was…                 |null|\n",
            "|RT @Satokolover88: thoughts https://t.co/rlubWaFObv                                                                                                         |null|\n",
            "|RT @goodwordbrewing: Thank you for coming to see us!                                                                                                        |null|\n",
            "|RT @Michell95425307: Biscuits and sausage gravy anyone?  #Foodie https://t.co/GRgFAmVB96                                                                    |null|\n",
            "|RT @divadihwera: STORIA. #amici21  https://t.co/H0gyvyjMRw                                                                                                  |null|\n",
            "|HiMERU looks at U 🤨 https://t.co/V7toxcY0H3                                                                                                                |null|\n",
            "|RT @Tim_Tweeted: A military vet in Ohio gets some unusual questions about pregnancy at a recent doctor visit https://t.co/te16eisR7F                        |null|\n",
            "|RT @accuweather: @ReedTimmerAccu \"It was very unique chase and definitely ranks as one of my top chases of all time \" @ReedTimmerAccu said…                 |null|\n",
            "|RT @heavyspoilers: Marvel really need to stop dropping movies and Disney plus finales same week though. Did the same thing with Hawkeye and…                |null|\n",
            "|RT @OsiesTips: 🚨GOOOALLL - AD Guanacasteca 💥💥 Bet 2 is a boooommmm!!! £58.95 returned £116.11 💥💥💥💥 bet 3 on the way so be ready 👀💥💥💥🚨🚨🚨🚨🚨 h…|null|\n",
            "|I̵t̵'̵s̵ ̵b̵e̵e̵n̵ ̵a̵ ̵q̵u̵i̵e̵t̵ ̵w̵e̵e̵k̵ ̵i̵n̵ ̵m̵y̵ ̵h̵o̵m̵e̵t̵o̵w̵n̵ ̵—NO THIS IS NOT MY HOME TOWN  i don't r… https://t.co/blRe0BWMu9                |null|\n",
            "|Samsung Galaxy S22 Ultra Whitestone Dome Tempered Glass Premium Screen P... https://t.co/NZlBUdb8TN - @PaulRankinYT… https://t.co/wNVXBgNl84                |null|\n",
            "|This man will join them.                                                                                                                                    |null|\n",
            "|RT @alexpunx1977: It must be understood  once and for all  that other animals are not food. They are individuals capable of suffering and e…                |null|\n",
            "|RT @shinee_things: This 💀 https://t.co/pHUhXYlm7f                                                                                                          |null|\n",
            "|RT @ScammingAds: Facebook I Instagram | Meta Platforms = Mark Zuckerberg {CSO ~ Chief Scamming Officer} Main source of scammers is Mark Z!…                 |null|\n",
            "|RT @damnitdanaaa: Niall sending Ashe a selfie and telling her to leave him alone is SENDING ME https://t.co/C0VpkxU82Y                                      |null|\n",
            "|@oqstudios Here’s some great work by @ModestMentalist   https://t.co/PdomvUj3KC https://t.co/wOJoHrO0tk                                                     |null|\n",
            "|RT @Blueboytweets_: There'll be a token for the Project and staking will be implemented too  The team is doxxed to @FellowshipDAO where the…                |null|\n",
            "|@helpsmiless @Beanleak @fbsecurity @CISAgov @Albert_tech35 on instagram is the only one who will help you recover b… https://t.co/HusBX41Cmf                |null|\n",
            "|RT @TCastro88: You cannot convince me they aren’t aliens https://t.co/s4lWQB4EKT                                                                            |null|\n",
            "|RT @indigogloves: How different actors run in character 😂 https://t.co/LhQ7vzwInx                                                                          |null|\n",
            "|RT @SebastianCroft: Plot twist… https://t.co/b2nboGGJgW                                                                                                     |null|\n",
            "|RT @xVictoriaPricex: Thank you for buying! Ass Bouncing / Cock Riding w Cumshot https://t.co/S44uUKsVKr #MVSales #MVTrans https://t.co/KDRD…                |null|\n",
            "|RT @PeterWMurphy1: Scott Morrison declares \"My answer is Family.\" Yet his Govt has held Nades  Priya  Kopika &amp; Tharnicaa in detention since…            |null|\n",
            "|RT @Ioverspring: this love came back to me.  https://t.co/lvJR8phCpD                                                                                        |null|\n",
            "|@Lauranthala \"oh no what a shame   died again\" https://t.co/aszAyLFLzW                                                                                      |null|\n",
            "|RT @freshhel: He is so lovely https://t.co/cCYmnJ9uiR                                                                                                       |null|\n",
            "|Promote it on @EmergiingNft                                                                                                                                 |null|\n",
            "|RT @Freeyourmindkid: Raising money for a friend of a friend whose house was burned down  please give what you can.  https://t.co/oi6E8EqUe1                 |null|\n",
            "|is it like a box ting? https://t.co/oedxI8bhPx                                                                                                              |null|\n",
            "|RT @HarlemHookup: Subscribe to https://t.co/PAu25OzOUZ and get https://t.co/0hSqW4cfD0 for free!  👉🏾https://t.co/0hSqW4cfD0 👉🏽https://t.co/…            |null|\n",
            "|RT @TheAssassinsNFT: 🏰 The Assassins Discord is now OPEN!🚪  The first 200 members will receive the Whitelisted role in preparation of our m…              |null|\n",
            "|Fairplay spurs  great result for them..... they must be buzzing to play europa league football next season. https://t.co/wPpe0otP6M                         |null|\n",
            "|RT @yellowwinsh: Belittle no dey shout my name  https://t.co/eVwz95cIEW                                                                                     |null|\n",
            "|RT @OVRCZOfficial: new month  new availability  taking a few people for 1-on-1 consulting  if you're an artist/producer looking to discuss…                 |null|\n",
            "|Take 2 on crispy smoked chicken wings. Baking powder vs olive oil! https://t.co/TdTgx7tq4a                                                                  |null|\n",
            "|RT @Lucifer_Umar: Dekha @LOVEUmsim052  I told uh na anyways Main Finally bahut Khush hun ke koi to Show hai jisne Audiance ke sath nahi khe…                |null|\n",
            "|@ARYSabirShakir They are planning to start the old game  and trying to creat fear so long march is either stopped f… https://t.co/1lcsRREOyS                |null|\n",
            "|@DanielJHannan Can’t remember Trump or Orban invading a country  trying to destroy its culture  language  raping an… https://t.co/BKPte5IX1F                |null|\n",
            "|RT @Epicman6954479: Draw ur oc in this https://t.co/8MX7KzhAKj                                                                                              |null|\n",
            "|@ok1aj Same https://t.co/j5WVXTg3UC                                                                                                                         |null|\n",
            "|ASUU looking at students writing jamb. https://t.co/SDeJF67KRb                                                                                              |null|\n",
            "|RT @LegendaryEnergy: BREAKING: Trump brings up Johnson&amp;Johnson owners on stage. Crowd doesn’t seem too impressed. https://t.co/QkLjm2nvQh               |null|\n",
            "|this gif feels like a hug                                                                                                                                   |null|\n",
            "|RT @Tubaman2020: Today  at https://t.co/rqCWdSUXIa  the full video  as naughty Wonderwoman @ChatonNyx takes FOUR hard spankings from real l…                |null|\n",
            "|@HenryFM_ hery https://t.co/oHjOyoHwKm                                                                                                                      |null|\n",
            "|RT @metamotorlab: Our paper on quantifying young adults metacognitive access to facial expressions is now out in Cognition! https://t.co/YV…                |null|\n",
            "|RT @hyxpk: She should pay attention to the situation. https://t.co/fkoHz84qDi                                                                               |null|\n",
            "|Amen 🙏 Hun                                                                                                                                                 |null|\n",
            "+------------------------------------------------------------------------------------------------------------------------------------------------------------+----+\n",
            "only showing top 100 rows\n",
            "\n"
          ]
        }
      ]
    },
    {
      "cell_type": "code",
      "source": [
        "tweets=tweets.drop(\"_c1\")"
      ],
      "metadata": {
        "id": "ngHlOorBIZOg"
      },
      "execution_count": 40,
      "outputs": []
    },
    {
      "cell_type": "code",
      "metadata": {
        "id": "ZU12CKB-Wd96"
      },
      "source": [
        "#logic to remove RT\n",
        "tweets.createOrReplaceTempView(\"tweets\")"
      ],
      "execution_count": 41,
      "outputs": []
    },
    {
      "cell_type": "code",
      "metadata": {
        "id": "GmOfDODqWq-R"
      },
      "source": [
        "tweetsWithOutRT = sql_context.sql(\"SELECT * FROM tweets where text NOT LIKE '%RT%'\")"
      ],
      "execution_count": 42,
      "outputs": []
    },
    {
      "cell_type": "code",
      "metadata": {
        "id": "7b7-rx622Blf"
      },
      "source": [
        "#tweetsWithOutRT=tweetsWithOutRT.drop(\"_c1\")"
      ],
      "execution_count": 43,
      "outputs": []
    },
    {
      "cell_type": "code",
      "metadata": {
        "colab": {
          "base_uri": "https://localhost:8080/"
        },
        "id": "7HPE6zLAZIBa",
        "outputId": "87647faf-640d-4a62-ae28-a8fb3d7caf33"
      },
      "source": [
        "tweetsWithOutRT.show()"
      ],
      "execution_count": 44,
      "outputs": [
        {
          "output_type": "stream",
          "name": "stdout",
          "text": [
            "+--------------------+\n",
            "|                Text|\n",
            "+--------------------+\n",
            "|gonna try this mi...|\n",
            "|The older we get ...|\n",
            "|Lawyer for journa...|\n",
            "|     THIS IS SO CUTE|\n",
            "|Yeah what happene...|\n",
            "|@BarbaraDixon__ G...|\n",
            "|Just sold! Get yo...|\n",
            "|US health officia...|\n",
            "|— 1990 🤍 with hi...|\n",
            "|Not sure this is ...|\n",
            "|Feels like we wen...|\n",
            "|            Twittodz|\n",
            "|My dog and I look...|\n",
            "|Blew this into sh...|\n",
            "|@GravisMushnick T...|\n",
            "|@NotsNfts  So exc...|\n",
            "|HiMERU looks at U...|\n",
            "|I̵t̵'̵s̵ ̵b̵e̵e̵n...|\n",
            "|Samsung Galaxy S2...|\n",
            "|This man will joi...|\n",
            "+--------------------+\n",
            "only showing top 20 rows\n",
            "\n"
          ]
        }
      ]
    },
    {
      "cell_type": "code",
      "metadata": {
        "colab": {
          "base_uri": "https://localhost:8080/"
        },
        "id": "_CFFWc2MZTGi",
        "outputId": "511e5b96-f356-42bd-887c-0c010e653c2f"
      },
      "source": [
        "print(tweetsWithOutRT.count())"
      ],
      "execution_count": 45,
      "outputs": [
        {
          "output_type": "stream",
          "name": "stdout",
          "text": [
            "71876\n"
          ]
        }
      ]
    },
    {
      "cell_type": "code",
      "metadata": {
        "id": "LeTsRqaGKLQO"
      },
      "source": [
        "#preprocesing text\n",
        "from pyspark.sql.functions import regexp_replace"
      ],
      "execution_count": 46,
      "outputs": []
    },
    {
      "cell_type": "code",
      "metadata": {
        "id": "os9Gs0KvK8yn"
      },
      "source": [
        "#removing user names\n",
        "tweetsWithOutRT = tweetsWithOutRT.withColumn(\"text\",  regexp_replace(\"text\", \"@[A-Za-z0-9]+\", \"\"))\n",
        " "
      ],
      "execution_count": 47,
      "outputs": []
    },
    {
      "cell_type": "code",
      "metadata": {
        "id": "1Pg8ybufOtYK"
      },
      "source": [
        "import pyspark.sql.functions as f"
      ],
      "execution_count": 48,
      "outputs": []
    },
    {
      "cell_type": "code",
      "metadata": {
        "id": "5Vt2O2nEOIgY"
      },
      "source": [
        "#removing web links and special  characters\n",
        "tweetsWithOutRT = tweetsWithOutRT.withColumn(\"text\", regexp_replace(\"text\", \"(?:\\@|http?\\://|https?\\://|www)\\S+\", \" \"))\n",
        "#tw = tw.withColumn(\"Tweet\", regexp_replace(\"Tweet\", \"#[A-Za-z0-9]+\", \"\"))\n",
        "tweetsWithOutRT = tweetsWithOutRT.withColumn(\"text\", regexp_replace(\"text\", \"'\", \" \"))\n",
        "tweetsWithOutRT = tweetsWithOutRT.withColumn(\"text\", regexp_replace(\"text\", \"[^A-Za-z0-9]+\", \" \"))\n",
        "tweetsWithOutRT = tweetsWithOutRT.withColumn(\"text\", f.lower(f.col(\"text\")) )\n",
        "tweetsWithOutRT = tweetsWithOutRT.na.drop()"
      ],
      "execution_count": 49,
      "outputs": []
    },
    {
      "cell_type": "code",
      "metadata": {
        "id": "rzHiRABfU5fQ"
      },
      "source": [
        "tweetsWithOutRT = tweetsWithOutRT.withColumn(\"text\",regexp_replace(\"text\", \"[\\\\r\\\\n\\\\t]\", \" \") )"
      ],
      "execution_count": 50,
      "outputs": []
    },
    {
      "cell_type": "code",
      "metadata": {
        "colab": {
          "base_uri": "https://localhost:8080/"
        },
        "id": "knD6aeB51ohH",
        "outputId": "1a4a21fe-9369-4ee7-d066-d4ea5524d296"
      },
      "source": [
        "tweetsWithOutRT.show()"
      ],
      "execution_count": 51,
      "outputs": [
        {
          "output_type": "stream",
          "name": "stdout",
          "text": [
            "+--------------------+\n",
            "|                text|\n",
            "+--------------------+\n",
            "|gonna try this mi...|\n",
            "|the older we get ...|\n",
            "|lawyer for journa...|\n",
            "|     this is so cute|\n",
            "|yeah what happene...|\n",
            "|     good for you x |\n",
            "|just sold get you...|\n",
            "|us health officia...|\n",
            "|      1990 with him |\n",
            "|not sure this is ...|\n",
            "|feels like we wen...|\n",
            "|            twittodz|\n",
            "|my dog and i look...|\n",
            "|blew this into sh...|\n",
            "| these communists...|\n",
            "| so excited to ge...|\n",
            "|  himeru looks at u |\n",
            "|i t s b e e n a q...|\n",
            "|samsung galaxy s2...|\n",
            "|this man will joi...|\n",
            "+--------------------+\n",
            "only showing top 20 rows\n",
            "\n"
          ]
        }
      ]
    },
    {
      "cell_type": "code",
      "metadata": {
        "id": "6EWiVTrS1Yae"
      },
      "source": [
        "#removing null tweets\n",
        "tweetsWithOutRT = tweetsWithOutRT.where(tweetsWithOutRT.text!='null')"
      ],
      "execution_count": 52,
      "outputs": []
    },
    {
      "cell_type": "code",
      "metadata": {
        "colab": {
          "base_uri": "https://localhost:8080/"
        },
        "id": "z3EIEeMCKsvo",
        "outputId": "bba33bb6-bd38-4a77-d61a-28cf15d7e61a"
      },
      "source": [
        "print(tweetsWithOutRT.count())"
      ],
      "execution_count": 53,
      "outputs": [
        {
          "output_type": "stream",
          "name": "stdout",
          "text": [
            "71876\n"
          ]
        }
      ]
    },
    {
      "cell_type": "code",
      "metadata": {
        "id": "tSh8PIZAPGB5"
      },
      "source": [
        "#tweetspreprocessed.to_csv('tweetspreprocessed.csv', encoding='utf-8')\n",
        "#saving csv\n",
        "tweetsWithOutRT.write.csv(\"/content/gdrive/MyDrive/Colab Notebooks/preprocesedlivetweets\")"
      ],
      "execution_count": 54,
      "outputs": []
    },
    {
      "cell_type": "markdown",
      "source": [
        ""
      ],
      "metadata": {
        "id": "YkTu9fN2ayJy"
      }
    },
    {
      "cell_type": "code",
      "metadata": {
        "id": "RkDTr3XBQtke"
      },
      "source": [
        "#killing context object\n",
        "sc.stop()"
      ],
      "execution_count": 55,
      "outputs": []
    },
    {
      "cell_type": "code",
      "source": [
        ""
      ],
      "metadata": {
        "id": "fyorFNlPLDVh"
      },
      "execution_count": 55,
      "outputs": []
    }
  ]
}